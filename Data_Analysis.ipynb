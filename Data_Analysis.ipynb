{
 "cells": [
  {
   "cell_type": "markdown",
   "metadata": {},
   "source": [
    "# AI4PH Tools for Data Science: Notebooks and Versioning\n",
    "## Assignment Description\n",
    "To demonstrate mastery of the course material, learners will create a Jupyter Notebook that walks through a sample dataset, from data ingestion, basic cleaning, visualization, and calculation of summary statistics. \n",
    "\n",
    "The notebook should include the following elements:\n",
    "\n",
    "1. Data Loading: Import a public health dataset of your choice\n",
    "2. Exploratory Data Analysis: Perform exploratory data analysis on the cleaned dataset using pandas and matplotlib and create at least one informative visualizations and the calculation of at least two summary statistics. \n",
    "3. Version Control: Use Git to create a repository for your notebook, and commit your changes regularly. Ensure that your notebook is properly versioned and documented.\n",
    "4. Reproducibility: Use virtual environments and include a requirements.txt file that lists all the dependencies and versions of the libraries used.\n",
    "5. Documentation: Document your notebook using Markdown cells, and provide clear and concise explanations of your code and analysis.\n",
    "The repository should demonstrate the learner’s ability to use Virtual Environments, Jupyter Notebooks, Pandas, Matplotlib, Git and Github. The notebook will be assessed based on the quality of your analysis, the clarity of your documentation, and the reproducibility and maintainability of your code.\n",
    "\n",
    "Please upload a link to your Github Public Repository where the assignment can be found.  "
   ]
  },
  {
   "cell_type": "code",
   "execution_count": 10,
   "metadata": {},
   "outputs": [],
   "source": [
    "# import required packages\n",
    "import requests\n",
    "import pandas as pd"
   ]
  },
  {
   "cell_type": "markdown",
   "metadata": {},
   "source": [
    "## Data Loading\n",
    "Download and load the data from the source.\n",
    "<br>\n",
    "Source: https://data.ontario.ca/dataset/covid-19-vaccine-data-in-ontario/resource/274b819c-5d69-4539-a4db-f2950794138c"
   ]
  },
  {
   "cell_type": "code",
   "execution_count": 7,
   "metadata": {},
   "outputs": [],
   "source": [
    "# download the data\n",
    "url = 'https://data.ontario.ca/dataset/752ce2b7-c15a-4965-a3dc-397bf405e7cc/resource/274b819c-5d69-4539-a4db-f2950794138c/download/vac_status_hosp_icu.csv'\n",
    "filename = 'data/vac_status_hosp_icu.csv'\n",
    "headers = {'User-Agent': 'Mozilla/5.0 (Macintosh; Intel Mac OS X 10_10_1) AppleWebKit/537.36 (KHTML, like Gecko) Chrome/39.0.2171.95 Safari/537.36'}\n",
    "response = requests.get(url, headers=headers)"
   ]
  },
  {
   "cell_type": "code",
   "execution_count": 8,
   "metadata": {},
   "outputs": [],
   "source": [
    "# write data to file\n",
    "with open(filename, mode=\"wb\") as file:\n",
    "    file.write(response.content)"
   ]
  },
  {
   "cell_type": "code",
   "execution_count": 13,
   "metadata": {},
   "outputs": [
    {
     "data": {
      "text/html": [
       "<div>\n",
       "<style scoped>\n",
       "    .dataframe tbody tr th:only-of-type {\n",
       "        vertical-align: middle;\n",
       "    }\n",
       "\n",
       "    .dataframe tbody tr th {\n",
       "        vertical-align: top;\n",
       "    }\n",
       "\n",
       "    .dataframe thead th {\n",
       "        text-align: right;\n",
       "    }\n",
       "</style>\n",
       "<table border=\"1\" class=\"dataframe\">\n",
       "  <thead>\n",
       "    <tr style=\"text-align: right;\">\n",
       "      <th></th>\n",
       "      <th>date</th>\n",
       "      <th>icu_unvac</th>\n",
       "      <th>icu_partial_vac</th>\n",
       "      <th>icu_full_vac</th>\n",
       "      <th>hospitalnonicu_unvac</th>\n",
       "      <th>hospitalnonicu_partial_vac</th>\n",
       "      <th>hospitalnonicu_full_vac</th>\n",
       "    </tr>\n",
       "  </thead>\n",
       "  <tbody>\n",
       "    <tr>\n",
       "      <th>0</th>\n",
       "      <td>2021-08-10</td>\n",
       "      <td>22</td>\n",
       "      <td>3</td>\n",
       "      <td>0</td>\n",
       "      <td>23</td>\n",
       "      <td>4</td>\n",
       "      <td>11</td>\n",
       "    </tr>\n",
       "    <tr>\n",
       "      <th>1</th>\n",
       "      <td>2021-08-11</td>\n",
       "      <td>37</td>\n",
       "      <td>5</td>\n",
       "      <td>2</td>\n",
       "      <td>34</td>\n",
       "      <td>7</td>\n",
       "      <td>8</td>\n",
       "    </tr>\n",
       "    <tr>\n",
       "      <th>2</th>\n",
       "      <td>2021-08-12</td>\n",
       "      <td>45</td>\n",
       "      <td>5</td>\n",
       "      <td>2</td>\n",
       "      <td>44</td>\n",
       "      <td>7</td>\n",
       "      <td>9</td>\n",
       "    </tr>\n",
       "    <tr>\n",
       "      <th>3</th>\n",
       "      <td>2021-08-13</td>\n",
       "      <td>52</td>\n",
       "      <td>5</td>\n",
       "      <td>3</td>\n",
       "      <td>65</td>\n",
       "      <td>6</td>\n",
       "      <td>8</td>\n",
       "    </tr>\n",
       "    <tr>\n",
       "      <th>4</th>\n",
       "      <td>2021-08-14</td>\n",
       "      <td>53</td>\n",
       "      <td>4</td>\n",
       "      <td>1</td>\n",
       "      <td>67</td>\n",
       "      <td>6</td>\n",
       "      <td>11</td>\n",
       "    </tr>\n",
       "  </tbody>\n",
       "</table>\n",
       "</div>"
      ],
      "text/plain": [
       "         date  icu_unvac  icu_partial_vac  icu_full_vac  hospitalnonicu_unvac  \\\n",
       "0  2021-08-10         22                3             0                    23   \n",
       "1  2021-08-11         37                5             2                    34   \n",
       "2  2021-08-12         45                5             2                    44   \n",
       "3  2021-08-13         52                5             3                    65   \n",
       "4  2021-08-14         53                4             1                    67   \n",
       "\n",
       "   hospitalnonicu_partial_vac  hospitalnonicu_full_vac  \n",
       "0                           4                       11  \n",
       "1                           7                        8  \n",
       "2                           7                        9  \n",
       "3                           6                        8  \n",
       "4                           6                       11  "
      ]
     },
     "execution_count": 13,
     "metadata": {},
     "output_type": "execute_result"
    }
   ],
   "source": [
    "# load the data as pandas dataframe\n",
    "all_cases = pd.read_csv(filename)\n",
    "all_cases.head()"
   ]
  },
  {
   "cell_type": "markdown",
   "metadata": {},
   "source": [
    "## Data Cleaning"
   ]
  },
  {
   "cell_type": "code",
   "execution_count": null,
   "metadata": {},
   "outputs": [],
   "source": []
  },
  {
   "cell_type": "code",
   "execution_count": null,
   "metadata": {},
   "outputs": [],
   "source": []
  }
 ],
 "metadata": {
  "kernelspec": {
   "display_name": "Python 3",
   "language": "python",
   "name": "python3"
  },
  "language_info": {
   "codemirror_mode": {
    "name": "ipython",
    "version": 3
   },
   "file_extension": ".py",
   "mimetype": "text/x-python",
   "name": "python",
   "nbconvert_exporter": "python",
   "pygments_lexer": "ipython3",
   "version": "3.9.18"
  }
 },
 "nbformat": 4,
 "nbformat_minor": 2
}
